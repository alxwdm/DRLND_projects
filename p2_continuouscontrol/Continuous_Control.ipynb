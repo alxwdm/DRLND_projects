{
 "cells": [
  {
   "cell_type": "markdown",
   "metadata": {},
   "source": [
    "# Continuous Control\n",
    "\n",
    "---\n",
    "\n",
    "You are welcome to use this coding environment to train your agent for the project.  Follow the instructions below to get started!\n",
    "\n",
    "### 1. Start the Environment\n",
    "\n",
    "Run the next code cell to install a few packages.  This line will take a few minutes to run!"
   ]
  },
  {
   "cell_type": "code",
   "execution_count": 1,
   "metadata": {},
   "outputs": [
    {
     "name": "stdout",
     "output_type": "stream",
     "text": [
      "\u001b[31mtensorflow 1.7.1 has requirement numpy>=1.13.3, but you'll have numpy 1.12.1 which is incompatible.\u001b[0m\r\n",
      "\u001b[31mipython 6.5.0 has requirement prompt-toolkit<2.0.0,>=1.0.15, but you'll have prompt-toolkit 3.0.5 which is incompatible.\u001b[0m\r\n"
     ]
    }
   ],
   "source": [
    "!pip -q install ./python"
   ]
  },
  {
   "cell_type": "markdown",
   "metadata": {},
   "source": [
    "The environments corresponding to both versions of the environment are already saved in the Workspace and can be accessed at the file paths provided below.  \n",
    "\n",
    "Please select one of the two options below for loading the environment."
   ]
  },
  {
   "cell_type": "code",
   "execution_count": 2,
   "metadata": {},
   "outputs": [
    {
     "name": "stderr",
     "output_type": "stream",
     "text": [
      "INFO:unityagents:\n",
      "'Academy' started successfully!\n",
      "Unity Academy name: Academy\n",
      "        Number of Brains: 1\n",
      "        Number of External Brains : 1\n",
      "        Lesson number : 0\n",
      "        Reset Parameters :\n",
      "\t\tgoal_speed -> 1.0\n",
      "\t\tgoal_size -> 5.0\n",
      "Unity brain name: ReacherBrain\n",
      "        Number of Visual Observations (per agent): 0\n",
      "        Vector Observation space type: continuous\n",
      "        Vector Observation space size (per agent): 33\n",
      "        Number of stacked Vector Observation: 1\n",
      "        Vector Action space type: continuous\n",
      "        Vector Action space size (per agent): 4\n",
      "        Vector Action descriptions: , , , \n"
     ]
    }
   ],
   "source": [
    "from unityagents import UnityEnvironment\n",
    "import numpy as np\n",
    "\n",
    "# select this option to load version 1 (with a single agent) of the environment\n",
    "#env = UnityEnvironment(file_name='/data/Reacher_One_Linux_NoVis/Reacher_One_Linux_NoVis.x86_64')\n",
    "\n",
    "# select this option to load version 2 (with 20 agents) of the environment\n",
    "env = UnityEnvironment(file_name='/data/Reacher_Linux_NoVis/Reacher.x86_64')"
   ]
  },
  {
   "cell_type": "markdown",
   "metadata": {},
   "source": [
    "Environments contain **_brains_** which are responsible for deciding the actions of their associated agents. Here we check for the first brain available, and set it as the default brain we will be controlling from Python."
   ]
  },
  {
   "cell_type": "code",
   "execution_count": 3,
   "metadata": {},
   "outputs": [],
   "source": [
    "# get the default brain\n",
    "brain_name = env.brain_names[0]\n",
    "brain = env.brains[brain_name]"
   ]
  },
  {
   "cell_type": "markdown",
   "metadata": {},
   "source": [
    "### 2. Examine the State and Action Spaces\n",
    "\n",
    "Run the code cell below to print some information about the environment."
   ]
  },
  {
   "cell_type": "code",
   "execution_count": 4,
   "metadata": {},
   "outputs": [
    {
     "name": "stdout",
     "output_type": "stream",
     "text": [
      "Number of agents: 20\n",
      "Size of each action: 4\n",
      "There are 20 agents. Each observes a state with length: 33\n",
      "The state for the first agent looks like: [  0.00000000e+00  -4.00000000e+00   0.00000000e+00   1.00000000e+00\n",
      "  -0.00000000e+00  -0.00000000e+00  -4.37113883e-08   0.00000000e+00\n",
      "   0.00000000e+00   0.00000000e+00   0.00000000e+00   0.00000000e+00\n",
      "   0.00000000e+00   0.00000000e+00  -1.00000000e+01   0.00000000e+00\n",
      "   1.00000000e+00  -0.00000000e+00  -0.00000000e+00  -4.37113883e-08\n",
      "   0.00000000e+00   0.00000000e+00   0.00000000e+00   0.00000000e+00\n",
      "   0.00000000e+00   0.00000000e+00   5.75471878e+00  -1.00000000e+00\n",
      "   5.55726624e+00   0.00000000e+00   1.00000000e+00   0.00000000e+00\n",
      "  -1.68164849e-01]\n"
     ]
    }
   ],
   "source": [
    "# reset the environment\n",
    "env_info = env.reset(train_mode=True)[brain_name]\n",
    "\n",
    "# number of agents\n",
    "num_agents = len(env_info.agents)\n",
    "print('Number of agents:', num_agents)\n",
    "\n",
    "# size of each action\n",
    "action_size = brain.vector_action_space_size\n",
    "print('Size of each action:', action_size)\n",
    "\n",
    "# examine the state space \n",
    "states = env_info.vector_observations\n",
    "state_size = states.shape[1]\n",
    "print('There are {} agents. Each observes a state with length: {}'.format(states.shape[0], state_size))\n",
    "print('The state for the first agent looks like:', states[0])"
   ]
  },
  {
   "cell_type": "markdown",
   "metadata": {},
   "source": [
    "### 3. Take Random Actions in the Environment\n",
    "\n",
    "In the next code cell, you will learn how to use the Python API to control the agent and receive feedback from the environment.\n",
    "\n",
    "Note that **in this coding environment, you will not be able to watch the agents while they are training**, and you should set `train_mode=True` to restart the environment."
   ]
  },
  {
   "cell_type": "code",
   "execution_count": 5,
   "metadata": {},
   "outputs": [
    {
     "name": "stdout",
     "output_type": "stream",
     "text": [
      "Total score (averaged over agents) this episode: 0.0944999978877604\n"
     ]
    }
   ],
   "source": [
    "env_info = env.reset(train_mode=True)[brain_name]      # reset the environment    \n",
    "states = env_info.vector_observations                  # get the current state (for each agent)\n",
    "scores = np.zeros(num_agents)                          # initialize the score (for each agent)\n",
    "while True:\n",
    "    actions = np.random.randn(num_agents, action_size) # select an action (for each agent)\n",
    "    actions = np.clip(actions, -1, 1)                  # all actions between -1 and 1\n",
    "    env_info = env.step(actions)[brain_name]           # send all actions to tne environment\n",
    "    next_states = env_info.vector_observations         # get next state (for each agent)\n",
    "    rewards = env_info.rewards                         # get reward (for each agent)\n",
    "    dones = env_info.local_done                        # see if episode finished\n",
    "    scores += env_info.rewards                         # update the score (for each agent)\n",
    "    states = next_states                               # roll over states to next time step\n",
    "    if np.any(dones):                                  # exit loop if episode finished\n",
    "        break\n",
    "print('Total score (averaged over agents) this episode: {}'.format(np.mean(scores)))"
   ]
  },
  {
   "cell_type": "markdown",
   "metadata": {},
   "source": [
    "When finished, you can close the environment."
   ]
  },
  {
   "cell_type": "code",
   "execution_count": null,
   "metadata": {},
   "outputs": [],
   "source": [
    "env.close()"
   ]
  },
  {
   "cell_type": "markdown",
   "metadata": {},
   "source": [
    "### 4. It's Your Turn!\n",
    "\n",
    "Now it's your turn to train your own agent to solve the environment!  A few **important notes**:\n",
    "- When training the environment, set `train_mode=True`, so that the line for resetting the environment looks like the following:\n",
    "```python\n",
    "env_info = env.reset(train_mode=True)[brain_name]\n",
    "```\n",
    "- To structure your work, you're welcome to work directly in this Jupyter notebook, or you might like to start over with a new file!  You can see the list of files in the workspace by clicking on **_Jupyter_** in the top left corner of the notebook.\n",
    "- In this coding environment, you will not be able to watch the agents while they are training.  However, **_after training the agents_**, you can download the saved model weights to watch the agents on your own machine! "
   ]
  },
  {
   "cell_type": "code",
   "execution_count": 7,
   "metadata": {},
   "outputs": [],
   "source": [
    "from ddpg_agent import Agent\n",
    "from collections import deque\n",
    "from importlib import reload\n",
    "import torch\n",
    "import matplotlib.pyplot as plt\n",
    "import csv\n",
    "import pandas as pd"
   ]
  },
  {
   "cell_type": "code",
   "execution_count": 11,
   "metadata": {},
   "outputs": [],
   "source": [
    "# reload modules when the file has been edited\n",
    "import ddpg_agent\n",
    "reload(ddpg_agent)\n",
    "from ddpg_agent import Agent"
   ]
  },
  {
   "cell_type": "code",
   "execution_count": 8,
   "metadata": {},
   "outputs": [],
   "source": [
    "# train ddpg function\n",
    "def ddpg(n_episodes=100, max_timesteps=1000, filename=None):\n",
    "    \"\"\"Actor-Critic Learning with DDPG.\n",
    "    \n",
    "    Params\n",
    "    ======\n",
    "        n_episodes (int): maximum number of training episodes\n",
    "        max_timesteps (int): maximum number of timesteps per episode\n",
    "        filename (str): csv-file with results from previous training\n",
    "                        if empty, start training from scratch\n",
    "    \"\"\"\n",
    "    # Initialize score lists\n",
    "    all_scores = []                    # list containing all scores from each episode (avg over all agents)\n",
    "    scores_window = deque(maxlen=100)  # deque containing last 100 scores (avg over all agents)\n",
    "    scores_movavg = []                 # list containing moving average of scores (avg over all agents)\n",
    "    best_agent_scores = []             # list with best agent score for each episode (individual agent)\n",
    "    worst_agent_scores = []            # list with worst agent score for each episode (individual agent)\n",
    "    \n",
    "    # load scores and weights from previous training run\n",
    "    if filename:\n",
    "        # read csv into pd DataFrame\n",
    "        df = pd.read_csv(filename, sep=';',header=0)\n",
    "        # get episode_offset of latest checkpoint (ckpt is saved every 10 episodes)\n",
    "        episode_offset = (df['i_episode'].values.tolist()[-1] // 10) * 10\n",
    "        # append old score values\n",
    "        all_scores.extend(df['episode_score'].values.tolist())\n",
    "        all_scores = all_scores[:episode_offset]\n",
    "        scores_window.extend(all_scores)\n",
    "        scores_movavg.extend(df['mov_avg_100'].values.tolist())\n",
    "        scores_movavg = scores_movavg[:episode_offset]\n",
    "        best_agent_scores.extend(df['best_agent'].values.tolist())\n",
    "        best_agent_scores = best_agent_scores[:episode_offset]\n",
    "        worst_agent_scores.extend(df['worst_agent'].values.tolist())\n",
    "        worst_agent_scores = worst_agent_scores[:episode_offset]\n",
    "        # load weights from latest checkpoint\n",
    "        agent.load_checkpoint('checkpoint_' + str(episode_offset) + '.pth')\n",
    "        \n",
    "    # if no previous run has been provided, create new csv file    \n",
    "    else:\n",
    "        print('No checkpoint provided, training from scratch...')\n",
    "        episode_offset = 0\n",
    "        filename = 'results_temp.csv'\n",
    "        with open(filename, 'w', newline='') as csvfile:\n",
    "            writer = csv.writer(csvfile, delimiter=';')\n",
    "            row = ['i_episode', 'episode_score', 'best_agent', 'worst_agent', 'mov_avg_100']\n",
    "            writer.writerow(row)\n",
    "\n",
    "    # run episodes (works with 1 and 20 parallel Agents environment)\n",
    "    for i_episode in range(1+episode_offset, 1+n_episodes+episode_offset):\n",
    "        # Initialize episode\n",
    "        env_info = env.reset(train_mode=True)[brain_name] # reset the environment\n",
    "        states = env_info.vector_observations             # get the current states (for each agent)\n",
    "        scores = np.zeros(num_agents)                     # initialize the score (for each agent)\n",
    "        agent.reset()                                     # reset agent noise \n",
    "        \n",
    "        # Interact with environment\n",
    "        for t in range(max_timesteps):\n",
    "            actions = agent.act(states, add_noise=True)         # select an action\n",
    "            env_info = env.step(actions)[brain_name]            # send actions to environment\n",
    "            next_states = env_info.vector_observations          # get next state\n",
    "            rewards = env_info.rewards                          # get reward\n",
    "            dones = env_info.local_done                         # see if episode has finished\n",
    "            # iterate over experiences and learn\n",
    "            for state, action, reward, next_state, done in zip(states, actions, rewards, next_states, dones):\n",
    "                agent.step(state, action, reward, next_state, done, t)\n",
    "            states = next_states\n",
    "            scores += rewards\n",
    "            if np.any(dones):\n",
    "                break \n",
    "                \n",
    "        # Append scores        \n",
    "        all_scores.append(np.mean(scores))           # most recent score (avg over all agents)\n",
    "        scores_window.append(np.mean(scores))        # rolling window (for task target)\n",
    "        scores_movavg.append(np.mean(scores_window)) # moving average of window\n",
    "        best_agent_scores.append(np.max(scores))     # best agent score in that episode\n",
    "        worst_agent_scores.append(np.min(scores))    # worst agent score in that episode\n",
    "        \n",
    "        # write scores to csv-file\n",
    "        with open(filename, 'a', newline='') as csvfile:\n",
    "            writer = csv.writer(csvfile, delimiter=';')\n",
    "            row = [i_episode, np.mean(scores), np.max(scores), np.min(scores), np.mean(scores_window)]\n",
    "            writer.writerow(row)\n",
    "        \n",
    "        # Print scores and check if environment has been solved\n",
    "        if len(env_info.agents) > 1:\n",
    "            print('\\rEpisode {} \\tEpisode Average: {:.2f} \\tBest Agent Score: {:.2f} \\tWorst Agent Score: {:.2f}'.format(\n",
    "                i_episode, np.mean(scores), np.max(scores), np.min(scores)), end=\"\")\n",
    "        else:\n",
    "            print('\\rEpisode {} \\tEpisode Score: {:.2f} \\tMoving Average: {:.2f}'.format(\n",
    "                i_episode, np.mean(scores), np.mean(scores_window)), end=\"\")            \n",
    "        if i_episode % 10 == 0:\n",
    "            print('\\nEpisode {} \\tAverage Score: {:.2f} \\t'.format(\n",
    "                i_episode, np.mean(scores_window)), end=\"\")\n",
    "            fpath = 'checkpoint_' + str(i_episode)\n",
    "            agent.save_checkpoint(filename=fpath)\n",
    "        if np.mean(scores_window)>=30.0 and i_episode>=100:\n",
    "            print('\\nEnvironment solved in {:d} episodes! \\tAverage Score over 100 episodes: {:.2f}'.format(\n",
    "                i_episode-100, np.mean(scores_window)))\n",
    "            # Save weights if environment is solved\n",
    "            agent.save_checkpoint()\n",
    "            break\n",
    "            \n",
    "    return all_scores, scores_movavg, i_episode"
   ]
  },
  {
   "cell_type": "code",
   "execution_count": 8,
   "metadata": {},
   "outputs": [
    {
     "name": "stdout",
     "output_type": "stream",
     "text": [
      "No checkpoint provided, training from scratch...\n",
      "Episode 10 \tEpisode Average: 4.79 \tBest Agent Score: 7.88 \tWorst Agent Score: 1.89\n",
      "Episode 10 \tAverage Score: 2.63 \tcheckpoint_10.pth succesfully saved.\n",
      "Episode 20 \tEpisode Average: 12.69 \tBest Agent Score: 19.03 \tWorst Agent Score: 3.82\n",
      "Episode 20 \tAverage Score: 6.55 \tcheckpoint_20.pth succesfully saved.\n",
      "Episode 30 \tEpisode Average: 16.65 \tBest Agent Score: 25.07 \tWorst Agent Score: 10.03\n",
      "Episode 30 \tAverage Score: 9.94 \tcheckpoint_30.pth succesfully saved.\n",
      "Episode 40 \tEpisode Average: 28.63 \tBest Agent Score: 36.36 \tWorst Agent Score: 21.91\n",
      "Episode 40 \tAverage Score: 13.55 \tcheckpoint_40.pth succesfully saved.\n",
      "Episode 50 \tEpisode Average: 34.31 \tBest Agent Score: 38.84 \tWorst Agent Score: 24.04\n",
      "Episode 50 \tAverage Score: 17.11 \tcheckpoint_50.pth succesfully saved.\n",
      "Episode 60 \tEpisode Average: 36.90 \tBest Agent Score: 39.55 \tWorst Agent Score: 33.02\n",
      "Episode 60 \tAverage Score: 20.25 \tcheckpoint_60.pth succesfully saved.\n",
      "Episode 70 \tEpisode Average: 38.60 \tBest Agent Score: 39.62 \tWorst Agent Score: 37.25\n",
      "Episode 70 \tAverage Score: 22.81 \tcheckpoint_70.pth succesfully saved.\n",
      "Episode 80 \tEpisode Average: 38.64 \tBest Agent Score: 39.51 \tWorst Agent Score: 36.55\n",
      "Episode 80 \tAverage Score: 24.76 \tcheckpoint_80.pth succesfully saved.\n",
      "Episode 90 \tEpisode Average: 37.56 \tBest Agent Score: 39.50 \tWorst Agent Score: 35.01\n",
      "Episode 90 \tAverage Score: 26.28 \tcheckpoint_90.pth succesfully saved.\n",
      "Episode 100 \tEpisode Average: 38.41 \tBest Agent Score: 39.63 \tWorst Agent Score: 32.25\n",
      "Episode 100 \tAverage Score: 27.51 \tcheckpoint_100.pth succesfully saved.\n"
     ]
    }
   ],
   "source": [
    "# Instatiate agent and train\n",
    "agent = Agent(state_size=state_size, action_size=action_size, random_seed=0)\n",
    "scores, avg_scores, i_episode = ddpg()"
   ]
  },
  {
   "cell_type": "code",
   "execution_count": 9,
   "metadata": {},
   "outputs": [
    {
     "name": "stdout",
     "output_type": "stream",
     "text": [
      "checkpoint_100.pth successfully loaded.\n",
      "Episode 107 \tEpisode Average: 38.32 \tBest Agent Score: 39.59 \tWorst Agent Score: 34.57\n",
      "Environment solved in 7 episodes! \tAverage Score over 100 episodes: 30.00\n",
      "checkpoint.pth succesfully saved.\n"
     ]
    }
   ],
   "source": [
    "# Continue training the agent\n",
    "# (loads latest checkpoint and previous results for average score tracking)\n",
    "agent = Agent(state_size=state_size, action_size=action_size, random_seed=0)\n",
    "scores, avg_scores, i_episode = ddpg(filename='results_temp.csv')"
   ]
  },
  {
   "cell_type": "code",
   "execution_count": 40,
   "metadata": {},
   "outputs": [],
   "source": [
    "# Plot of rewards function\n",
    "def plot_rewards(filename):\n",
    "    # get results and unpack dataframe\n",
    "    df = pd.read_csv(filename, sep=';',header=0)\n",
    "    n_episode = df['i_episode'].values.tolist()\n",
    "    episode_avg_scores = df['episode_score'].values.tolist()\n",
    "    best_agent_scores = df['best_agent'].values.tolist()\n",
    "    worst_agent_scores = df['worst_agent'].values.tolist()\n",
    "    mov_avg = df['mov_avg_100'].values.tolist()\n",
    "    # make plot\n",
    "    ax = plt.plot(n_episode, episode_avg_scores, color='grey', label='episode score')\n",
    "    ax = plt.plot(n_episode, mov_avg, color='orange', label='average')\n",
    "    ax = plt.plot(n_episode, best_agent_scores, color='lightgrey')\n",
    "    ax = plt.plot(n_episode, worst_agent_scores, color='lightgrey')\n",
    "    plt.fill_between(n_episode, worst_agent_scores, best_agent_scores, color='lightgrey')\n",
    "    plt.title('Training results for 20 parallel agents', fontdict={'fontsize': 14})\n",
    "    plt.xlabel('episodes', fontdict={'fontsize': 12})\n",
    "    plt.ylabel('score', fontdict={'fontsize': 12})\n",
    "    plt.xlim([0, n_episode[-1]])\n",
    "    plt.hlines(30, xmin=0, xmax=n_episode[-1], colors='0.5', linestyles='dashed', label='target')\n",
    "    plt.legend();"
   ]
  },
  {
   "cell_type": "code",
   "execution_count": 41,
   "metadata": {},
   "outputs": [
    {
     "data": {
      "image/png": "[encoded data removed]",
      "text/plain": [
       "<matplotlib.figure.Figure at 0x7fa570b7d390>"
      ]
     },
     "metadata": {
      "needs_background": "light"
     },
     "output_type": "display_data"
    }
   ],
   "source": [
    "plot_rewards('results_temp.csv')"
   ]
  }
 ],
 "metadata": {
  "kernelspec": {
   "display_name": "Python 3",
   "language": "python",
   "name": "python3"
  },
  "language_info": {
   "codemirror_mode": {
    "name": "ipython",
    "version": 3
   },
   "file_extension": ".py",
   "mimetype": "text/x-python",
   "name": "python",
   "nbconvert_exporter": "python",
   "pygments_lexer": "ipython3",
   "version": "3.6.3"
  }
 },
 "nbformat": 4,
 "nbformat_minor": 2
}
