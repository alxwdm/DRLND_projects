{
  "nbformat": 4,
  "nbformat_minor": 0,
  "metadata": {
    "colab": {
      "name": "F1_sectortimes_analysis.ipynb",
      "provenance": [],
      "authorship_tag": "ABX9TyNmE3s0fv6sByxHQnUBCRRP"
    },
    "kernelspec": {
      "name": "python3",
      "display_name": "Python 3"
    },
    "language_info": {
      "name": "python"
    }
  },
  "cells": [
    {
      "cell_type": "markdown",
      "metadata": {
        "id": "93HHpKckyugm"
      },
      "source": [
        "# DTSA 5506 - Data Mining Project\n",
        "\n",
        "This notebook is used for course DTSA 5506 (Data Mining Project) in the Master of Science in Data Science program from the University of Colorado Boulder (CU Boulder)."
      ]
    },
    {
      "cell_type": "markdown",
      "metadata": {
        "id": "dI34RT1bzOJz"
      },
      "source": [
        "## About the dataset\n",
        "\n",
        "Lorem ipsum about F1\n",
        "\n",
        "Link to dataset on [kaggle](https://www.kaggle.com/markjenei/f1-qualification-best-sector-times-20182019?select=f1_quali_sector_times_2018-2019_v2.csv).\n",
        "\n",
        "Another lorem ipsum."
      ]
    },
    {
      "cell_type": "markdown",
      "metadata": {
        "id": "qR2wYx-Tzc7z"
      },
      "source": [
        "## Project Outlook\n",
        "\n",
        "1. **Descriptive** Analysis to answer questions such as:\n",
        "* How do sector and lap times vary between drives?\n",
        "* How do they vary within drives?\n",
        "* How do they vary between circuits?\n",
        "* Is there a general trend and does it change over time (e.g. season progress, car development, etc.).\n",
        "2. **Predictive** Analysis with the following goal: Can we predict future lap times (or grid order) based on the data?\n"
      ]
    },
    {
      "cell_type": "markdown",
      "metadata": {
        "id": "wp_k4tgq0YYU"
      },
      "source": [
        "## 0. Setup"
      ]
    },
    {
      "cell_type": "code",
      "metadata": {
        "id": "97r0y1Sz0eBn"
      },
      "source": [
        "# TODO"
      ],
      "execution_count": null,
      "outputs": []
    },
    {
      "cell_type": "markdown",
      "metadata": {
        "id": "WmC_97GZ0PeU"
      },
      "source": [
        "## 1. Descriptive Analysis"
      ]
    },
    {
      "cell_type": "code",
      "metadata": {
        "id": "6_irz2DZyHjT"
      },
      "source": [
        "# TODO"
      ],
      "execution_count": null,
      "outputs": []
    },
    {
      "cell_type": "markdown",
      "metadata": {
        "id": "kab7bjLN0TOI"
      },
      "source": [
        "## 2. Predictive Analysis"
      ]
    },
    {
      "cell_type": "code",
      "metadata": {
        "id": "evbV9tyd0hJg"
      },
      "source": [
        "# TODO"
      ],
      "execution_count": 1,
      "outputs": []
    }
  ]
}